{
 "cells": [
  {
   "cell_type": "code",
   "execution_count": 1,
   "id": "f6884036-cecd-4cc5-918e-524c8c1426a2",
   "metadata": {
    "ExecutionIndicator": {
     "show": true
    },
    "execution": {
     "iopub.execute_input": "2025-07-20T12:20:03.441005Z",
     "iopub.status.busy": "2025-07-20T12:20:03.440623Z",
     "iopub.status.idle": "2025-07-20T12:20:35.974444Z",
     "shell.execute_reply": "2025-07-20T12:20:35.973969Z",
     "shell.execute_reply.started": "2025-07-20T12:20:03.440981Z"
    },
    "tags": []
   },
   "outputs": [
    {
     "name": "stderr",
     "output_type": "stream",
     "text": [
      "/mnt/workspace/lonhai/LangChain_Deploy/my_langChain_venv/my_venv_first/lib/python3.11/site-packages/_distutils_hack/__init__.py:53: UserWarning: Reliance on distutils from stdlib is deprecated. Users must rely on setuptools to provide the distutils module. Avoid importing distutils or import setuptools first, and avoid setting SETUPTOOLS_USE_DISTUTILS=stdlib. Register concerns at https://github.com/pypa/setuptools/issues/new?template=distutils-deprecation.yml\n",
      "  warnings.warn(\n"
     ]
    },
    {
     "name": "stdout",
     "output_type": "stream",
     "text": [
      "A6\n"
     ]
    }
   ],
   "source": [
    "from qwen2_llm import Qwen\n",
    "\n",
    "llm = Qwen()\n",
    "# llm.invoke('加班有哪些补偿？')"
   ]
  },
  {
   "cell_type": "code",
   "execution_count": 2,
   "id": "76e37c5d-da6a-4f0f-97ee-735256e05633",
   "metadata": {
    "execution": {
     "iopub.execute_input": "2025-07-20T12:20:40.196964Z",
     "iopub.status.busy": "2025-07-20T12:20:40.196668Z",
     "iopub.status.idle": "2025-07-20T12:20:45.312338Z",
     "shell.execute_reply": "2025-07-20T12:20:45.311865Z",
     "shell.execute_reply.started": "2025-07-20T12:20:40.196947Z"
    },
    "tags": []
   },
   "outputs": [],
   "source": [
    "# embedding模型加载\n",
    "from langchain_huggingface import HuggingFaceEmbeddings\n",
    "\n",
    "model_name = \"../Qwen/Qwen3-Embedding-0.6B\"\n",
    "model_kwargs = {'device': 'cuda'}\n",
    "encode_kwargs = {'normalize_embeddings': False}\n",
    "# 加载词嵌入模型\n",
    "hf = HuggingFaceEmbeddings(\n",
    "    model_name=model_name,  # 模型名称\n",
    "    model_kwargs=model_kwargs,  # 模型参数\n",
    "    encode_kwargs=encode_kwargs  # 模型转向量的参数\n",
    ")\n",
    "# hf.embed_query('你是')"
   ]
  },
  {
   "cell_type": "code",
   "execution_count": 3,
   "id": "e1cbbeca-42f1-4089-9730-c47c7e7f0745",
   "metadata": {
    "execution": {
     "iopub.execute_input": "2025-07-20T12:20:45.313309Z",
     "iopub.status.busy": "2025-07-20T12:20:45.313102Z",
     "iopub.status.idle": "2025-07-20T12:20:45.396279Z",
     "shell.execute_reply": "2025-07-20T12:20:45.395810Z",
     "shell.execute_reply.started": "2025-07-20T12:20:45.313295Z"
    },
    "tags": []
   },
   "outputs": [],
   "source": [
    "#######  2. 数据准备：文档读取和切分 #######\n",
    "# 文档读取\n",
    "from langchain_community.document_loaders import PyPDFLoader,Docx2txtLoader\n",
    "loader = Docx2txtLoader('./data/【修订版】XX公司员工手册.docx') # 定义读取方法和文档\n",
    "# loader = PyPDFLoader('./data/人事面试常见问题.pdf') # 定义读取方法和文档\n",
    "document = loader.load() # 进行读取文档\n",
    "# document[0].page_content # 文档内容\n",
    "# document[0].metadata # 文档来源"
   ]
  },
  {
   "cell_type": "code",
   "execution_count": 4,
   "id": "e26b4c88-e51d-4ac3-afc1-140680b42e97",
   "metadata": {
    "execution": {
     "iopub.execute_input": "2025-07-20T12:20:45.663503Z",
     "iopub.status.busy": "2025-07-20T12:20:45.663206Z",
     "iopub.status.idle": "2025-07-20T12:20:45.694684Z",
     "shell.execute_reply": "2025-07-20T12:20:45.694224Z",
     "shell.execute_reply.started": "2025-07-20T12:20:45.663481Z"
    },
    "tags": []
   },
   "outputs": [],
   "source": [
    "# 文档切分\n",
    "from langchain_text_splitters.character import CharacterTextSplitter,RecursiveCharacterTextSplitter\n",
    "# 定义切分方法\n",
    "spliter = RecursiveCharacterTextSplitter(\n",
    "                      chunk_size=200,    # 文档块大小（最大）\n",
    "                      chunk_overlap=30) # 重叠块大小\n",
    "# 文档分块\n",
    "chunk_documents = spliter.split_documents(document)\n",
    "# chunk_documents"
   ]
  },
  {
   "cell_type": "code",
   "execution_count": 5,
   "id": "b8cc2657-d36c-44e7-ac31-73f16a1ae2a2",
   "metadata": {
    "execution": {
     "iopub.execute_input": "2025-07-20T12:20:47.860314Z",
     "iopub.status.busy": "2025-07-20T12:20:47.860043Z",
     "iopub.status.idle": "2025-07-20T12:20:50.030637Z",
     "shell.execute_reply": "2025-07-20T12:20:50.030171Z",
     "shell.execute_reply.started": "2025-07-20T12:20:47.860300Z"
    },
    "tags": []
   },
   "outputs": [],
   "source": [
    "#######  3. 向量存储和检索 #######\n",
    "from langchain_community.vectorstores import FAISS,Qdrant\n",
    "# 向量存储\n",
    "vectorstore = FAISS.from_documents(\n",
    "    documents=chunk_documents,  # 待存储的文档对象\n",
    "    embedding=hf,  # 词嵌入模型\n",
    ")\n",
    "# 测试，相似性文档搜索\n",
    "query = '加班补偿都有哪些？'\n",
    "docs = vectorstore.similarity_search(query, k=4)\n",
    "# docs"
   ]
  },
  {
   "cell_type": "code",
   "execution_count": 6,
   "id": "3430e617-ae87-47e5-a7df-e071647bdfd1",
   "metadata": {
    "execution": {
     "iopub.execute_input": "2025-07-20T12:20:51.724510Z",
     "iopub.status.busy": "2025-07-20T12:20:51.724236Z",
     "iopub.status.idle": "2025-07-20T12:20:51.758321Z",
     "shell.execute_reply": "2025-07-20T12:20:51.757769Z",
     "shell.execute_reply.started": "2025-07-20T12:20:51.724494Z"
    },
    "tags": []
   },
   "outputs": [
    {
     "data": {
      "text/plain": [
       "[Document(id='3557f69e-1c4b-4bfe-b640-b61fd092523f', metadata={'source': './data/【修订版】XX公司员工手册.docx'}, page_content='为保障员工晚饭时间，对在工作日确需安排加班的，在 18：30 后的时间才开始计算加班时长。\\n\\n\\t\\t对正常工作时间以外的打卡记录，如未按照规定申请加班并经审批通过的，均不被认定为加班，按个人自行处置打卡时间处理。\\n\\n三．加班补偿\\n\\n\\n\\n\\t\\t调休：结合个人意愿及公司业务需要，在加班之后的其他工作时间安排员工休息与加班时间等时长的时间。调休以小时为单位，但最长不超过三天。按流程经审批通过在'),\n",
       " Document(id='ae049df2-7f00-4127-b766-8bd61bd7bf8a', metadata={'source': './data/【修订版】XX公司员工手册.docx'}, page_content='人事行政部备案后即可安排调休。（具体请参照调休申请流程）\\n\\n\\n\\n\\t对安排加班的员工，公司给予餐费补助，补助标准为￥15 元/每餐，在当月工资中发放。后续公司有调整的，按最新标准执行。对周末及法定节假日，每加班半天补一餐。如当天公司已提供餐食的，不再支付餐费补助。\\n\\n\\t人事行政部根据加班申请核实考勤后，定期进行汇总登记，核定调休时间。员工如有异议，应当月向人事行政部提出复查。'),\n",
       " Document(id='fc7d3b36-4f52-4b2e-a6e2-31a57cc1a8bc', metadata={'source': './data/【修订版】XX公司员工手册.docx'}, page_content='第三条 加班\\n\\n\\n\\n一. 加班原则\\n\\n\\n\\n\\t健康优先原则：公司倡导合理安排时间高效工作，各人员在安排加班时，应结合自身身体状况，对加班频次、时间长短及与正常上班时间的间隔做出合理安排，保证身体健康。\\n\\n\\n\\n二．加班认定\\n\\n\\n\\n\\t\\t公司实行加班审批制，员工因工作原因确需要加班的，按照流程给中心负责人审批通过后才认定为加班。'),\n",
       " Document(id='fc6e0cd7-b127-44c5-8b10-8fd26327dd2d', metadata={'source': './data/【修订版】XX公司员工手册.docx'}, page_content='部分员工放假的假日，适逢星期六、星期日，则不补假。\\n\\n\\n\\n三.  年休假：按照《企业职工带薪年休假条例》的规定，年休假天数与员工连续工作时间\\n\\n\\n\\n相关：累计工作已满 1 年不满 10 年的，年休假 5 天；已满 10 年不满 20 年的，年休假')]"
      ]
     },
     "execution_count": 6,
     "metadata": {},
     "output_type": "execute_result"
    }
   ],
   "source": [
    "#######  4. 检索器 #######\n",
    "#定义检索器\n",
    "retriever = vectorstore.as_retriever(\n",
    "    search_type='similarity', # similarity mmr similarity_score_threshold\n",
    "    search_kwargs={'k':4,} # 其他搜索参数\n",
    ")\n",
    "retriever.invoke(query)"
   ]
  },
  {
   "cell_type": "code",
   "execution_count": 9,
   "id": "56c8898a-26f7-4d40-9039-2eaa6401c0da",
   "metadata": {
    "ExecutionIndicator": {
     "show": true
    },
    "execution": {
     "iopub.execute_input": "2025-07-20T11:59:05.764508Z",
     "iopub.status.busy": "2025-07-20T11:59:05.764245Z",
     "iopub.status.idle": "2025-07-20T11:59:17.564880Z",
     "shell.execute_reply": "2025-07-20T11:59:17.564377Z",
     "shell.execute_reply.started": "2025-07-20T11:59:05.764492Z"
    },
    "tags": []
   },
   "outputs": [
    {
     "name": "stdout",
     "output_type": "stream",
     "text": [
      "你是一个企业新人导师，能够通过阅读文档内容，回答用户的问题。\n",
      "文档内容如下：\n",
      "为保障员工晚饭时间，对在工作日确需安排加班的，在 18：30 后的时间才开始计算加班时长。\n",
      "\n",
      "\t\t对正常工作时间以外的打卡记录，如未按照规定申请加班并经审批通过的，均不被认定为加班，按个人自行处置打卡时间处理。\n",
      "\n",
      "三．加班补偿\n",
      "\n",
      "\n",
      "\n",
      "\t\t调休：结合个人意愿及公司业务需要，在加班之后的其他工作时间安排员工休息与加班时间等时长的时间。调休以小时为单位，但最长不超过三天。按流程经审批通过在\n",
      "\n",
      "人事行政部备案后即可安排调休。（具体请参照调休申请流程）\n",
      "\n",
      "\n",
      "\n",
      "\t对安排加班的员工，公司给予餐费补助，补助标准为￥15 元/每餐，在当月工资中发放。后续公司有调整的，按最新标准执行。对周末及法定节假日，每加班半天补一餐。如当天公司已提供餐食的，不再支付餐费补助。\n",
      "\n",
      "\t人事行政部根据加班申请核实考勤后，定期进行汇总登记，核定调休时间。员工如有异议，应当月向人事行政部提出复查。\n",
      "\n",
      "第三条 加班\n",
      "\n",
      "\n",
      "\n",
      "一. 加班原则\n",
      "\n",
      "\n",
      "\n",
      "\t健康优先原则：公司倡导合理安排时间高效工作，各人员在安排加班时，应结合自身身体状况，对加班频次、时间长短及与正常上班时间的间隔做出合理安排，保证身体健康。\n",
      "\n",
      "\n",
      "\n",
      "二．加班认定\n",
      "\n",
      "\n",
      "\n",
      "\t\t公司实行加班审批制，员工因工作原因确需要加班的，按照流程给中心负责人审批通过后才认定为加班。\n",
      "\n",
      "部分员工放假的假日，适逢星期六、星期日，则不补假。\n",
      "\n",
      "\n",
      "\n",
      "三.  年休假：按照《企业职工带薪年休假条例》的规定，年休假天数与员工连续工作时间\n",
      "\n",
      "\n",
      "\n",
      "相关：累计工作已满 1 年不满 10 年的，年休假 5 天；已满 10 年不满 20 年的，年休假\n",
      "用户的问题是：加班有哪些补偿？\n",
      "~~~~~~~~~~~~\n",
      "加班有哪些补偿？\n"
     ]
    },
    {
     "data": {
      "text/plain": [
       "{'query': '加班有哪些补偿？', 'result': '- 员工如对调休或补偿有异议，可向人事行政部提出复查申请。'}"
      ]
     },
     "execution_count": 9,
     "metadata": {},
     "output_type": "execute_result"
    }
   ],
   "source": [
    "#######  5. 构建QA链 #######\n",
    "# 编写提示模板\n",
    "template = '''\n",
    "你是一个企业新人导师，能够通过阅读文档内容，回答用户的问题。\n",
    "文档内容如下：\n",
    "{context}\n",
    "用户的问题是：{question}\n",
    "'''\n",
    "from langchain_core.prompts import ChatPromptTemplate\n",
    "prompt = ChatPromptTemplate([\n",
    "    (\"system\", template),\n",
    "    (\"user\", \"{question}\")\n",
    "])\n",
    "\n",
    "# 构建链\n",
    "from langchain.chains import RetrievalQA\n",
    "chain = RetrievalQA.from_chain_type(\n",
    "    llm=llm,  # 大模型\n",
    "    retriever=retriever,  # 检索器\n",
    "    chain_type_kwargs={'prompt':prompt}\n",
    ")\n",
    "# 测试\n",
    "chain.invoke('加班有哪些补偿？')"
   ]
  },
  {
   "cell_type": "code",
   "execution_count": null,
   "id": "05f7be5a-8650-4a7b-bcdd-977cc319662f",
   "metadata": {
    "tags": []
   },
   "outputs": [],
   "source": [
    "import os\n",
    "from langchain_deepseek import ChatDeepSeek\n",
    "\n",
    "# 一定要先配置环境变量\n",
    "os.environ[\"DEEPSEEK_API_KEY\"] = \"sk-ae5ea9125bfe48a680c5dc23caeac538\"\n",
    "\n",
    "# 初始化模型\n",
    "llm = ChatDeepSeek(\n",
    "    model=\"deepseek-chat\",  # 或者 \"deepseek-reasoner\" 根据需求选择模型\n",
    "    temperature=0.7,\n",
    "    max_tokens=512,\n",
    "    timeout=30,\n",
    "    max_retries=3,\n",
    ")\n",
    "\n",
    "template = '''\n",
    "你是一个企业新人导师，能够通过阅读文档内容，回答用户的问题。\n",
    "文档内容如下：\n",
    "{context}\n",
    "用户的问题是：{question}\n",
    "'''\n",
    "from langchain_core.prompts import ChatPromptTemplate\n",
    "prompt = ChatPromptTemplate([\n",
    "    (\"system\", template),\n",
    "    (\"user\", \"{question}\")\n",
    "])\n",
    "\n",
    "# 构建链\n",
    "from langchain.chains import RetrievalQA\n",
    "chain = RetrievalQA.from_chain_type(\n",
    "    llm=llm,  # 大模型\n",
    "    retriever=retriever,  # 检索器\n",
    "    chain_type_kwargs={'prompt':prompt}\n",
    ")\n",
    "# 测试\n",
    "chain.invoke('加班有哪些补偿？')"
   ]
  },
  {
   "cell_type": "code",
   "execution_count": 7,
   "id": "e7a496e1-15c7-4b05-9dfa-b9b6eb25564c",
   "metadata": {
    "execution": {
     "iopub.execute_input": "2025-07-20T12:21:03.482932Z",
     "iopub.status.busy": "2025-07-20T12:21:03.482623Z",
     "iopub.status.idle": "2025-07-20T12:21:07.727720Z",
     "shell.execute_reply": "2025-07-20T12:21:07.727297Z",
     "shell.execute_reply.started": "2025-07-20T12:21:03.482918Z"
    },
    "tags": []
   },
   "outputs": [
    {
     "name": "stdout",
     "output_type": "stream",
     "text": [
      "A6\n",
      "你是一个企业新人导师，能够通过阅读文档内容，回答用户的问题。\n",
      "文档内容如下：\n",
      "为保障员工晚饭时间，对在工作日确需安排加班的，在 18：30 后的时间才开始计算加班时长。\n",
      "\n",
      "\t\t对正常工作时间以外的打卡记录，如未按照规定申请加班并经审批通过的，均不被认定为加班，按个人自行处置打卡时间处理。\n",
      "\n",
      "三．加班补偿\n",
      "\n",
      "\n",
      "\n",
      "\t\t调休：结合个人意愿及公司业务需要，在加班之后的其他工作时间安排员工休息与加班时间等时长的时间。调休以小时为单位，但最长不超过三天。按流程经审批通过在\n",
      "\n",
      "人事行政部备案后即可安排调休。（具体请参照调休申请流程）\n",
      "\n",
      "\n",
      "\n",
      "\t对安排加班的员工，公司给予餐费补助，补助标准为￥15 元/每餐，在当月工资中发放。后续公司有调整的，按最新标准执行。对周末及法定节假日，每加班半天补一餐。如当天公司已提供餐食的，不再支付餐费补助。\n",
      "\n",
      "\t人事行政部根据加班申请核实考勤后，定期进行汇总登记，核定调休时间。员工如有异议，应当月向人事行政部提出复查。\n",
      "\n",
      "第三条 加班\n",
      "\n",
      "\n",
      "\n",
      "一. 加班原则\n",
      "\n",
      "\n",
      "\n",
      "\t健康优先原则：公司倡导合理安排时间高效工作，各人员在安排加班时，应结合自身身体状况，对加班频次、时间长短及与正常上班时间的间隔做出合理安排，保证身体健康。\n",
      "\n",
      "\n",
      "\n",
      "二．加班认定\n",
      "\n",
      "\n",
      "\n",
      "\t\t公司实行加班审批制，员工因工作原因确需要加班的，按照流程给中心负责人审批通过后才认定为加班。\n",
      "\n",
      "部分员工放假的假日，适逢星期六、星期日，则不补假。\n",
      "\n",
      "\n",
      "\n",
      "三.  年休假：按照《企业职工带薪年休假条例》的规定，年休假天数与员工连续工作时间\n",
      "\n",
      "\n",
      "\n",
      "相关：累计工作已满 1 年不满 10 年的，年休假 5 天；已满 10 年不满 20 年的，年休假\n",
      "用户的问题是：加班有哪些补偿？\n",
      "~~~~~~~~~~~~\n",
      "加班有哪些补偿？\n"
     ]
    },
    {
     "data": {
      "text/plain": [
       "{'query': '加班有哪些补偿？',\n",
       " 'result': '加班补偿包括餐费补助和调休，具体包括：餐费补助标准为￥15元/每餐，在当月工资中发放。调休时间为小时，最长不超过三天，并需经过审批程序。'}"
      ]
     },
     "execution_count": 7,
     "metadata": {},
     "output_type": "execute_result"
    }
   ],
   "source": [
    "llm = Qwen('../Qwen/Qwen2.5-0.5B-Instruct')\n",
    "\n",
    "template = '''\n",
    "你是一个企业新人导师，能够通过阅读文档内容，回答用户的问题。\n",
    "文档内容如下：\n",
    "{context}\n",
    "用户的问题是：{question}\n",
    "'''\n",
    "from langchain_core.prompts import ChatPromptTemplate\n",
    "prompt = ChatPromptTemplate([\n",
    "    (\"system\", template),\n",
    "    (\"user\", \"{question}\")\n",
    "])\n",
    "\n",
    "# 构建链\n",
    "from langchain.chains import RetrievalQA\n",
    "chain = RetrievalQA.from_chain_type(\n",
    "    llm=llm,  # 大模型\n",
    "    retriever=retriever,  # 检索器\n",
    "    chain_type_kwargs={'prompt':prompt}\n",
    ")\n",
    "# 测试\n",
    "chain.invoke('加班有哪些补偿？')"
   ]
  },
  {
   "cell_type": "code",
   "execution_count": 11,
   "id": "bfa4ad42-9fee-436e-88d8-37c1c89f0034",
   "metadata": {
    "execution": {
     "iopub.execute_input": "2025-07-20T12:12:48.627931Z",
     "iopub.status.busy": "2025-07-20T12:12:48.627593Z",
     "iopub.status.idle": "2025-07-20T12:13:23.993215Z",
     "shell.execute_reply": "2025-07-20T12:13:23.992814Z",
     "shell.execute_reply.started": "2025-07-20T12:12:48.627914Z"
    },
    "tags": []
   },
   "outputs": [
    {
     "name": "stderr",
     "output_type": "stream",
     "text": [
      "/tmp/ipykernel_50916/2179391905.py:11: UserWarning: You have not specified a value for the `type` parameter. Defaulting to the 'tuples' format for chatbot messages, but this is deprecated and will be removed in a future version of Gradio. Please set type='messages' instead, which uses openai-style dictionaries with 'role' and 'content' keys.\n",
      "  chatbot=gr.Chatbot(height=500), # 聊天窗口\n",
      "/mnt/workspace/lonhai/LangChain_Deploy/my_langChain_venv/my_venv_first/lib/python3.11/site-packages/gradio/chat_interface.py:328: UserWarning: The gr.ChatInterface was not provided with a type, so the type of the gr.Chatbot, 'tuples', will be used.\n",
      "  warnings.warn(\n"
     ]
    },
    {
     "name": "stdout",
     "output_type": "stream",
     "text": [
      "* Running on local URL:  http://127.0.0.1:8001\n",
      "\n",
      "Could not create share link. Missing file: /root/.cache/huggingface/gradio/frpc/frpc_linux_amd64_v0.3. \n",
      "\n",
      "Please check your internet connection. This can happen if your antivirus software blocks the download of this file. You can install manually by following these steps: \n",
      "\n",
      "1. Download this file: https://cdn-media.huggingface.co/frpc-gradio-0.3/frpc_linux_amd64\n",
      "2. Rename the downloaded file to: frpc_linux_amd64_v0.3\n",
      "3. Move the file to this location: /root/.cache/huggingface/gradio/frpc\n"
     ]
    },
    {
     "data": {
      "text/html": [
       "<div><iframe src=\"http://127.0.0.1:8001/\" width=\"100%\" height=\"500\" allow=\"autoplay; camera; microphone; clipboard-read; clipboard-write;\" frameborder=\"0\" allowfullscreen></iframe></div>"
      ],
      "text/plain": [
       "<IPython.core.display.HTML object>"
      ]
     },
     "metadata": {},
     "output_type": "display_data"
    }
   ],
   "source": [
    "#######  6. 界面开发 #######\n",
    "import random\n",
    "import gradio as gr\n",
    "\n",
    "# 生成结果的函数，调用链回复\n",
    "def get_response(message, history):\n",
    "    return chain.invoke(message)['result']\n",
    "\n",
    "demo = gr.ChatInterface(\n",
    "    fn=get_response, # 执行的函数\n",
    "    chatbot=gr.Chatbot(height=500), # 聊天窗口\n",
    "    textbox=gr.Textbox(placeholder=\"请输入问题\", container=False, scale=7), # 文字输入\n",
    "    title=\"人事面试百事通\",\n",
    "    description=\"我是一个精通人事面试的助手，你可以问我相关的面试的问题。\",\n",
    "    theme=\"soft\", # 主题色\n",
    "    submit_btn = \"发送\",\n",
    "    stop_btn = \"停止\",\n",
    "    )\n",
    "\n",
    "if __name__ == \"__main__\":\n",
    "    demo.launch(server_port=8001,  # 端口\n",
    "                server_name='127.0.0.1', # 地址\n",
    "                share=True # 网络穿透\n",
    "                )"
   ]
  },
  {
   "cell_type": "code",
   "execution_count": null,
   "id": "7ad56b47-0366-4f27-af98-a54c7ede30a0",
   "metadata": {},
   "outputs": [],
   "source": []
  }
 ],
 "metadata": {
  "kernelspec": {
   "display_name": "My_LangChain_Env",
   "language": "python",
   "name": "my_venv_first"
  },
  "language_info": {
   "codemirror_mode": {
    "name": "ipython",
    "version": 3
   },
   "file_extension": ".py",
   "mimetype": "text/x-python",
   "name": "python",
   "nbconvert_exporter": "python",
   "pygments_lexer": "ipython3",
   "version": "3.11.11"
  }
 },
 "nbformat": 4,
 "nbformat_minor": 5
}
