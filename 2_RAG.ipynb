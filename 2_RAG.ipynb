{
 "cells": [
  {
   "cell_type": "code",
   "execution_count": 4,
   "id": "961e70ee-3588-43d2-a818-aaa5a34396d4",
   "metadata": {
    "execution": {
     "iopub.execute_input": "2025-07-20T09:02:14.446738Z",
     "iopub.status.busy": "2025-07-20T09:02:14.446444Z",
     "iopub.status.idle": "2025-07-20T09:02:54.581163Z",
     "shell.execute_reply": "2025-07-20T09:02:54.580724Z",
     "shell.execute_reply.started": "2025-07-20T09:02:14.446721Z"
    },
    "tags": []
   },
   "outputs": [
    {
     "name": "stderr",
     "output_type": "stream",
     "text": [
      "/mnt/workspace/lonhai/LangChain_Deploy/my_langChain_venv/my_venv_first/lib/python3.11/site-packages/_distutils_hack/__init__.py:53: UserWarning: Reliance on distutils from stdlib is deprecated. Users must rely on setuptools to provide the distutils module. Avoid importing distutils or import setuptools first, and avoid setting SETUPTOOLS_USE_DISTUTILS=stdlib. Register concerns at https://github.com/pypa/setuptools/issues/new?template=distutils-deprecation.yml\n",
      "  warnings.warn(\n"
     ]
    },
    {
     "data": {
      "text/plain": [
       "'我是你的AI助手，专注于帮助你解答问题、提供支持和提供建议。有什么可以帮助你的吗？'"
      ]
     },
     "execution_count": 4,
     "metadata": {},
     "output_type": "execute_result"
    }
   ],
   "source": [
    "#######  1. 模型准备 #######\n",
    "# LLMs模型加载\n",
    "from qwen2_llm import Qwen\n",
    "llm = Qwen()\n",
    "llm.invoke('你是谁')"
   ]
  },
  {
   "cell_type": "code",
   "execution_count": null,
   "id": "0db347a7-3a21-43ed-bd55-bf4df239c0fe",
   "metadata": {
    "ExecutionIndicator": {
     "show": true
    },
    "scrolled": true,
    "tags": []
   },
   "outputs": [],
   "source": [
    "## embedding模型加载\n",
    "from langchain_huggingface import HuggingFaceEmbeddings\n",
    "\n",
    "model_name = \"../Qwen/Qwen3-Embedding-0.6B\"\n",
    "model_kwargs = {'device': 'cuda'}\n",
    "encode_kwargs = {'normalize_embeddings': False}\n",
    "# 加载词嵌入模型\n",
    "hf = HuggingFaceEmbeddings(\n",
    "    model_name=model_name, # 模型名称\n",
    "    model_kwargs=model_kwargs, # 模型参数\n",
    "    encode_kwargs=encode_kwargs # 模型转向量的参数\n",
    ")\n",
    "hf.embed_query('你是')"
   ]
  },
  {
   "cell_type": "code",
   "execution_count": 13,
   "id": "a41a4cf4-2d87-4aab-9557-e6273c5ca23c",
   "metadata": {
    "ExecutionIndicator": {
     "show": true
    },
    "execution": {
     "iopub.execute_input": "2025-07-20T09:09:17.282378Z",
     "iopub.status.busy": "2025-07-20T09:09:17.282093Z",
     "iopub.status.idle": "2025-07-20T09:09:17.285471Z",
     "shell.execute_reply": "2025-07-20T09:09:17.284895Z",
     "shell.execute_reply.started": "2025-07-20T09:09:17.282362Z"
    },
    "tags": []
   },
   "outputs": [],
   "source": [
    "#######  2. 数据准备：文档读取和切分 #######\n",
    "# 文档读取\n",
    "from langchain_community.document_loaders import PyPDFLoader,Docx2txtLoader\n",
    "# loader = Docx2txtLoader('./data/人事面试常见问题.docx') # 定义读取方法和文档\n",
    "loader = PyPDFLoader('./data/人事面试常见问题.pdf') # 定义读取方法和文档\n",
    "# document = loader.load() # 进行读取文档\n",
    "# document[0].page_content # 文档内容\n",
    "# document[0].metadata # 文档来源"
   ]
  },
  {
   "cell_type": "code",
   "execution_count": 14,
   "id": "12151d62-4aaf-44ec-9780-c440d230d57d",
   "metadata": {
    "execution": {
     "iopub.execute_input": "2025-07-20T09:11:27.802937Z",
     "iopub.status.busy": "2025-07-20T09:11:27.802580Z",
     "iopub.status.idle": "2025-07-20T09:11:27.948274Z",
     "shell.execute_reply": "2025-07-20T09:11:27.947808Z",
     "shell.execute_reply.started": "2025-07-20T09:11:27.802915Z"
    }
   },
   "outputs": [],
   "source": [
    "# 文档切分\n",
    "from langchain_text_splitters.character import CharacterTextSplitter,RecursiveCharacterTextSplitter\n",
    "# 定义切分方法\n",
    "spliter = RecursiveCharacterTextSplitter(\n",
    "                      chunk_size=200,    # 文档块大小（最大）\n",
    "                      chunk_overlap=30) # 重叠块大小\n",
    "# 文档分块\n",
    "chunk_document = spliter.split_documents(document)"
   ]
  },
  {
   "cell_type": "code",
   "execution_count": 16,
   "id": "fa3e5db3-a253-4489-9e9d-f7f8814bdf44",
   "metadata": {
    "execution": {
     "iopub.execute_input": "2025-07-20T09:14:35.394318Z",
     "iopub.status.busy": "2025-07-20T09:14:35.394024Z",
     "iopub.status.idle": "2025-07-20T09:14:36.850050Z",
     "shell.execute_reply": "2025-07-20T09:14:36.849595Z",
     "shell.execute_reply.started": "2025-07-20T09:14:35.394303Z"
    },
    "tags": []
   },
   "outputs": [],
   "source": [
    "#######  3. 向量存储和检索 #######\n",
    "from langchain_community.vectorstores import FAISS,Qdrant\n",
    "# 向量存储\n",
    "vectorstore = FAISS.from_documents(\n",
    "    documents=chunk_document, # 待存储的文档对象\n",
    "    embedding=hf, # 词嵌入模型\n",
    ")\n",
    "# 测试，相似性文档搜索\n",
    "query = '面试时哪些行为可以加分？'\n",
    "docs = vectorstore.similarity_search(query, k=4)"
   ]
  },
  {
   "cell_type": "code",
   "execution_count": null,
   "id": "99eabdd8-21e0-4aff-9cd2-8f3c6baad70b",
   "metadata": {
    "ExecutionIndicator": {
     "show": true
    },
    "tags": []
   },
   "outputs": [],
   "source": [
    "#######  4. 检索器 #######\n",
    "#定义检索器\n",
    "retriever = vectorstore.as_retriever(\n",
    "    search_type='similarity', # similarity mmr similarity_score_threshold\n",
    "    search_kwargs={'k':4,} # 其他搜索参数\n",
    ")\n",
    "retriever.invoke(query)"
   ]
  },
  {
   "cell_type": "code",
   "execution_count": 19,
   "id": "938b1725-f4bc-4a08-980b-2799a3209c12",
   "metadata": {
    "execution": {
     "iopub.execute_input": "2025-07-20T09:16:42.089840Z",
     "iopub.status.busy": "2025-07-20T09:16:42.089534Z",
     "iopub.status.idle": "2025-07-20T09:17:10.892366Z",
     "shell.execute_reply": "2025-07-20T09:17:10.891955Z",
     "shell.execute_reply.started": "2025-07-20T09:16:42.089820Z"
    }
   },
   "outputs": [
    {
     "data": {
      "text/plain": [
       "{'query': '面试时哪些行为可以加分？', 'result': '这些行为有助于提升面试表现，'}"
      ]
     },
     "execution_count": 19,
     "metadata": {},
     "output_type": "execute_result"
    }
   ],
   "source": [
    "#######  5. 构建QA链 #######\n",
    "# 编写提示模板\n",
    "template = '''\n",
    "基于<start> 和 <end>之间的内容回答问题即可，回答用中文。\n",
    "<start> {context} <end>\n",
    "问题是：{question}\n",
    "'''\n",
    "from langchain_core.prompts import ChatPromptTemplate\n",
    "prompt = ChatPromptTemplate.from_template(template)\n",
    "\n",
    "# 构建链\n",
    "from langchain.chains import RetrievalQA\n",
    "chain = RetrievalQA.from_chain_type(\n",
    "    llm=llm, # 大模型\n",
    "    retriever=retriever, # 检索器\n",
    "    chain_type_kwargs={'prompt':prompt}\n",
    ")\n",
    "# 测试\n",
    "chain.invoke('面试时哪些行为可以加分？')"
   ]
  },
  {
   "cell_type": "code",
   "execution_count": 23,
   "id": "ef1c83ff-8efd-45b5-8aaf-103e18a87548",
   "metadata": {
    "ExecutionIndicator": {
     "show": true
    },
    "execution": {
     "iopub.execute_input": "2025-07-20T09:26:23.948151Z",
     "iopub.status.busy": "2025-07-20T09:26:23.947829Z",
     "iopub.status.idle": "2025-07-20T09:26:24.075857Z",
     "shell.execute_reply": "2025-07-20T09:26:24.075378Z",
     "shell.execute_reply.started": "2025-07-20T09:26:23.948135Z"
    },
    "tags": []
   },
   "outputs": [
    {
     "name": "stderr",
     "output_type": "stream",
     "text": [
      "/tmp/ipykernel_10680/2120754964.py:11: UserWarning: You have not specified a value for the `type` parameter. Defaulting to the 'tuples' format for chatbot messages, but this is deprecated and will be removed in a future version of Gradio. Please set type='messages' instead, which uses openai-style dictionaries with 'role' and 'content' keys.\n",
      "  chatbot=gr.Chatbot(height=500), # 聊天窗口\n",
      "/mnt/workspace/lonhai/LangChain_Deploy/my_langChain_venv/my_venv_first/lib/python3.11/site-packages/gradio/chat_interface.py:328: UserWarning: The gr.ChatInterface was not provided with a type, so the type of the gr.Chatbot, 'tuples', will be used.\n",
      "  warnings.warn(\n"
     ]
    }
   ],
   "source": [
    "#######  6. 界面开发 #######\n",
    "import random\n",
    "import gradio as gr\n",
    "\n",
    "# 生成结果的函数，调用链回复\n",
    "def get_response(message, history):\n",
    "    return chain.invoke(message)['result']\n",
    "\n",
    "demo = gr.ChatInterface(\n",
    "    fn=get_response, # 执行的函数\n",
    "    chatbot=gr.Chatbot(height=500), # 聊天窗口\n",
    "    textbox=gr.Textbox(placeholder=\"请输入问题\", container=False, scale=7), # 文字输入\n",
    "    title=\"人事面试百事通\",\n",
    "    description=\"我是一个精通人事面试的助手，你可以问我相关的面试的问题。\",\n",
    "    theme=\"soft\", # 主题色\n",
    "    submit_btn = \"发送\",\n",
    "    stop_btn = \"停止\"\n",
    "    )"
   ]
  },
  {
   "cell_type": "code",
   "execution_count": 24,
   "id": "ac049812-4741-4b36-aa23-b715111012fc",
   "metadata": {
    "execution": {
     "iopub.execute_input": "2025-07-20T09:26:42.948044Z",
     "iopub.status.busy": "2025-07-20T09:26:42.947721Z",
     "iopub.status.idle": "2025-07-20T09:27:14.512529Z",
     "shell.execute_reply": "2025-07-20T09:27:14.512113Z",
     "shell.execute_reply.started": "2025-07-20T09:26:42.948028Z"
    },
    "tags": []
   },
   "outputs": [
    {
     "name": "stdout",
     "output_type": "stream",
     "text": [
      "* Running on local URL:  http://127.0.0.1:8001\n",
      "\n",
      "Could not create share link. Missing file: /root/.cache/huggingface/gradio/frpc/frpc_linux_amd64_v0.3. \n",
      "\n",
      "Please check your internet connection. This can happen if your antivirus software blocks the download of this file. You can install manually by following these steps: \n",
      "\n",
      "1. Download this file: https://cdn-media.huggingface.co/frpc-gradio-0.3/frpc_linux_amd64\n",
      "2. Rename the downloaded file to: frpc_linux_amd64_v0.3\n",
      "3. Move the file to this location: /root/.cache/huggingface/gradio/frpc\n"
     ]
    },
    {
     "data": {
      "text/html": [
       "<div><iframe src=\"http://127.0.0.1:8001/\" width=\"100%\" height=\"500\" allow=\"autoplay; camera; microphone; clipboard-read; clipboard-write;\" frameborder=\"0\" allowfullscreen></iframe></div>"
      ],
      "text/plain": [
       "<IPython.core.display.HTML object>"
      ]
     },
     "metadata": {},
     "output_type": "display_data"
    },
    {
     "data": {
      "text/plain": []
     },
     "execution_count": 24,
     "metadata": {},
     "output_type": "execute_result"
    }
   ],
   "source": [
    "demo.launch(server_port=8001,  # 端口\n",
    "            server_name='127.0.0.1', # 地址\n",
    "            share=True # 网络穿透\n",
    "            )"
   ]
  },
  {
   "cell_type": "code",
   "execution_count": null,
   "id": "ce926ebb-1aa9-4b62-bc25-dd3f396deb7e",
   "metadata": {},
   "outputs": [],
   "source": []
  }
 ],
 "metadata": {
  "kernelspec": {
   "display_name": "My_LangChain_Env",
   "language": "python",
   "name": "my_venv_first"
  },
  "language_info": {
   "codemirror_mode": {
    "name": "ipython",
    "version": 3
   },
   "file_extension": ".py",
   "mimetype": "text/x-python",
   "name": "python",
   "nbconvert_exporter": "python",
   "pygments_lexer": "ipython3",
   "version": "3.11.11"
  }
 },
 "nbformat": 4,
 "nbformat_minor": 5
}
