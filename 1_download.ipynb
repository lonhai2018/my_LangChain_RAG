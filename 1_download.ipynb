{
 "cells": [
  {
   "cell_type": "code",
   "execution_count": null,
   "id": "4c1a99bb-2e86-4b3b-945c-c6c394111ba2",
   "metadata": {
    "ExecutionIndicator": {
     "show": true
    },
    "scrolled": true,
    "tags": []
   },
   "outputs": [],
   "source": [
    "from modelscope import snapshot_download\n",
    "model_id = snapshot_download(model_id='Qwen/Qwen3-0.6B', cache_dir='../')"
   ]
  },
  {
   "cell_type": "code",
   "execution_count": null,
   "id": "9a167999-661b-4376-8121-2c4a448722cf",
   "metadata": {},
   "outputs": [],
   "source": [
    "from modelscope import snapshot_download\n",
    "model_id = snapshot_download(model_id='Qwen/Qwen3-Embedding-0.6B', cache_dir='../')"
   ]
  }
 ],
 "metadata": {
  "kernelspec": {
   "display_name": "My_LangChain_Env",
   "language": "python",
   "name": "my_venv_first"
  },
  "language_info": {
   "codemirror_mode": {
    "name": "ipython",
    "version": 3
   },
   "file_extension": ".py",
   "mimetype": "text/x-python",
   "name": "python",
   "nbconvert_exporter": "python",
   "pygments_lexer": "ipython3",
   "version": "3.11.11"
  }
 },
 "nbformat": 4,
 "nbformat_minor": 5
}
